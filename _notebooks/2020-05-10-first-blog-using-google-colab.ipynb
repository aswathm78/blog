{
  "nbformat": 4,
  "nbformat_minor": 0,
  "metadata": {
    "colab": {
      "name": "First blog Using Colab.ipynb",
      "provenance": [],
      "collapsed_sections": [],
      "authorship_tag": "ABX9TyOryYndcs5tw+c/pkIT0AIn",
      "include_colab_link": true
    },
    "kernelspec": {
      "name": "python3",
      "display_name": "Python 3"
    }
  },
  "cells": [
    {
      "cell_type": "markdown",
      "metadata": {
        "id": "view-in-github",
        "colab_type": "text"
      },
      "source": [
        "<a href=\"https://colab.research.google.com/github/aswathm78/blog/blob/master/_notebooks/2020-05-10-first-blog-using-google-colab.ipynb\" target=\"_parent\"><img src=\"https://colab.research.google.com/assets/colab-badge.svg\" alt=\"Open In Colab\"/></a>"
      ]
    },
    {
      "cell_type": "markdown",
      "metadata": {
        "id": "k2XXi81F2ftC",
        "colab_type": "text"
      },
      "source": [
        "# \"First blog Using Colab\"\n",
        "> \"This is my first blog using blog using google colab\"\n",
        "- toc: true\n",
        "- branch: master\n",
        "- badges: true\n",
        "- comments: true\n",
        "- categories: [fastpages, jupyter, colab]\n",
        "- image: images/colab.jpeg\n",
        "- hide: false\n",
        "- search_exclude: false\n"
      ]
    },
    {
      "cell_type": "markdown",
      "metadata": {
        "id": "GWR0CK6q203B",
        "colab_type": "text"
      },
      "source": [
        "# New Section"
      ]
    }
  ]
}