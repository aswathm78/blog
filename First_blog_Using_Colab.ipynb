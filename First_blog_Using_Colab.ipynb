{
  "nbformat": 4,
  "nbformat_minor": 0,
  "metadata": {
    "colab": {
      "name": "First blog Using Colab.ipynb",
      "provenance": [],
      "authorship_tag": "ABX9TyP8FBBIyMIhH2NxgNeFQdS4",
      "include_colab_link": true
    },
    "kernelspec": {
      "name": "python3",
      "display_name": "Python 3"
    }
  },
  "cells": [
    {
      "cell_type": "markdown",
      "metadata": {
        "id": "view-in-github",
        "colab_type": "text"
      },
      "source": [
        "<a href=\"https://colab.research.google.com/github/aswathm78/blog/blob/master/First_blog_Using_Colab.ipynb\" target=\"_parent\"><img src=\"https://colab.research.google.com/assets/colab-badge.svg\" alt=\"Open In Colab\"/></a>"
      ]
    },
    {
      "cell_type": "markdown",
      "metadata": {
        "id": "k2XXi81F2ftC",
        "colab_type": "text"
      },
      "source": [
        "# \"First blog Using Colab\"\n",
        "> \"This is my first blog using blog using google colab\"\n",
        "- toc: true\n",
        "- branch: master\n",
        "- badges: true\n",
        "- comments: true\n",
        "- categories: [fastpages, jupyter, colab]\n",
        "- image: \n",
        "- hide: false\n",
        "- search_exclude: true\n",
        "- metadata_key1: metadata_value1\n",
        "- metadata_key2: metadata_value2"
      ]
    },
    {
      "cell_type": "markdown",
      "metadata": {
        "id": "GWR0CK6q203B",
        "colab_type": "text"
      },
      "source": [
        "# New Section"
      ]
    }
  ]
}